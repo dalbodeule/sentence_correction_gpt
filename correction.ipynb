{
 "cells": [
  {
   "cell_type": "markdown",
   "metadata": {},
   "source": [
    "# Sentence correction gpt on Korean\n",
    "\n",
    "한국어 문법교정 GPT3 모델 구축하기\n"
   ]
  },
  {
   "cell_type": "code",
   "execution_count": null,
   "metadata": {},
   "outputs": [],
   "source": [
    "%pip install pandas numpy scipy scikit-learn torch accelerate transformers ipywidgets tqdm matplotlib --upgrade\n",
    "\n",
    "# Transformers 를 사용하기 위한 라이브러리들 설치"
   ]
  },
  {
   "cell_type": "markdown",
   "metadata": {},
   "source": [
    "### AI-Hub data 정제\n",
    "\n",
    "예시 데이터는 다음과 같다.\n",
    "\n",
    "이 프로젝트를 수행하는 데이터인 AI-Hub 데이터는 용량이 112GB, 국외반출 불가로 데이터 관리에 주의를 요한다.\n",
    "\n",
    "이 데이터를 Pandas.DataFrame['index', text', 'corrected'] 로 정제하는 과정을 거친다.\n",
    "\n",
    "```json\n",
    "{  \"id\": \"100008-1-1-1\",\n",
    "  \"fileName\": \"TX_CA_1_100008-1-1-1\",\n",
    "  \"dataSet\": \"한국어 철자 및 맞춤법 교정용 병렬 데이터\",\n",
    "  \"domain\": \"CA\",\n",
    "  \"ko\": \"지금까지 다녀 본 여행지 중 좋았던 곳 추천해줘.\",\n",
    "  \"corrected\": \"지금까지 다녀 본 여행지 중 좋았던 곳 추천해 줘.\",\n",
    "  \"error\": [\n",
    "    {\n",
    "      \"errorType\": \"spac\",\n",
    "      \"startPoint\": 22,\n",
    "      \"endPoint\": 27\n",
    "    }\n",
    "  ]\n",
    "}\n",
    "```"
   ]
  },
  {
   "cell_type": "code",
   "execution_count": null,
   "metadata": {},
   "outputs": [],
   "source": [
    "from typing import List, Dict\n",
    "from tqdm.notebook import tqdm\n",
    "\n",
    "from json_processing import get_json_files, read_json_file\n",
    "\n",
    "import pandas as pd\n",
    "\n",
    "\n",
    "LOCATION = '.'\n",
    "\n",
    "train = get_json_files(f'{LOCATION}/data/train')\n",
    "validate = get_json_files(f'{LOCATION}/data/validate')\n",
    "\n",
    "train_data = pd.DataFrame()\n",
    "validate_data = pd.DataFrame()"
   ]
  },
  {
   "cell_type": "code",
   "execution_count": null,
   "metadata": {},
   "outputs": [],
   "source": [
    "from json_processing import get_json_files, read_json_file\n",
    "import multiprocessing as mp\n",
    "\n",
    "# https://zerohertz.github.io/multiprocessing/\n",
    "with mp.Pool() as pool:\n",
    "    train_raw = list(tqdm(pool.imap(read_json_file, train), total=len(train)))\n",
    "\n",
    "train_data = pd.concat(train_raw, ignore_index=True)\n",
    "\n",
    "for file in tqdm(validate):\n",
    "    validate_data = pd.concat([validate_data, read_json_file(f'{LOCATION}/{file}')], ignore_index=True)\n",
    "\n",
    "train_data.to_csv(f'{LOCATION}/train.csv')\n",
    "validate_data.to_csv(f'{LOCATION}/validate.csv')"
   ]
  },
  {
   "cell_type": "markdown",
   "metadata": {},
   "source": [
    "### Transformer 학습 준비\n",
    "\n",
    "학습 준비된 데이터는 토크나이저를 불러와 DataLoader에 준비하여 학습 준비를 한다.\n",
    "\n",
    "파인튜닝 대상 모델은 다음과 같다.\n",
    "[kykim/gpt3-kor-small_based_on_gpt2](https://github.com/kiyoungkim1/LMkor)"
   ]
  },
  {
   "cell_type": "code",
   "execution_count": 3,
   "metadata": {},
   "outputs": [],
   "source": [
    "from torch.utils.data import Dataset, DataLoader\n",
    "from transformers import BertTokenizerFast\n",
    "\n",
    "import pandas as pd\n",
    "import torch\n",
    "\n",
    "LOCATION = '.'\n",
    "\n",
    "# GPT-3 모델과 토크나이저 불러오기\n",
    "tokenizer = BertTokenizerFast.from_pretrained(\"kykim/gpt3-kor-small_based_on_gpt2\")\n",
    "max_length = 100\n",
    "loader_size = 16\n",
    "\n",
    "# 훈련용 및 검증용 데이터셋 클래스 정의\n",
    "class TextDataset(Dataset):\n",
    "    def __init__(self, data, tokenizer, max_length):\n",
    "        self.data = data\n",
    "        self.tokenizer = tokenizer\n",
    "        self.max_length = max_length\n",
    "    \n",
    "    def __len__(self):\n",
    "        return len(self.data)\n",
    "    \n",
    "    def __getitem__(self, idx):\n",
    "        input_text = self.data.iloc[idx]['text']\n",
    "        output_text = self.data.iloc[idx]['corrected']\n",
    "        input_ids = self.tokenizer.encode(input_text, max_length=self.max_length, truncation=True, padding='max_length')\n",
    "        output_ids = self.tokenizer.encode(output_text, max_length=self.max_length, truncation=True, padding='max_length')\n",
    "        return {\n",
    "            'input_ids': torch.tensor(input_ids, dtype=torch.long),\n",
    "            'output_ids': torch.tensor(output_ids, dtype=torch.long)\n",
    "        }\n",
    "\n",
    "train = pd.read_csv(f'{LOCATION}/train.csv')\n",
    "validate = pd.read_csv(f'{LOCATION}/validate.csv')\n",
    "\n",
    "train_dataset = TextDataset(train, tokenizer, max_length)\n",
    "validate_dataset = TextDataset(validate, tokenizer, max_length)\n",
    "\n",
    "train_loader = DataLoader(train_dataset, batch_size=32, shuffle=False)\n",
    "validate_loader = DataLoader(validate_dataset, batch_size=32, shuffle=False)"
   ]
  },
  {
   "cell_type": "code",
   "execution_count": 4,
   "metadata": {},
   "outputs": [
    {
     "data": {
      "application/vnd.jupyter.widget-view+json": {
       "model_id": "c56d18f46df742bfb248d6b26e3f9e67",
       "version_major": 2,
       "version_minor": 0
      },
      "text/plain": [
       "  0%|          | 0/10 [00:00<?, ?it/s]"
      ]
     },
     "metadata": {},
     "output_type": "display_data"
    },
    {
     "data": {
      "application/vnd.jupyter.widget-view+json": {
       "model_id": "2b593849d58a4359aa173617a68f23b9",
       "version_major": 2,
       "version_minor": 0
      },
      "text/plain": [
       "  0%|          | 0/68801 [00:00<?, ?it/s]"
      ]
     },
     "metadata": {},
     "output_type": "display_data"
    }
   ],
   "source": [
    "from transformers import GPT2LMHeadModel\n",
    "from tqdm.notebook import tqdm  # Assuming you're using a Jupyter notebook\n",
    "from sklearn.metrics import roc_auc_score, f1_score  # Only needed if using accuracy in compute_metrics\n",
    "\n",
    "import torch\n",
    "import pickle\n",
    "\n",
    "device = torch.device('cpu')\n",
    "\n",
    "if torch.backends.mps.is_available():\n",
    "    device = torch.device('mps')\n",
    "elif torch.cuda.is_available():\n",
    "    device = torch.device('cuda')\n",
    "\n",
    "# Model and tokenizer (assuming you have them defined elsewhere)\n",
    "model = GPT2LMHeadModel.from_pretrained(\"kykim/gpt3-kor-small_based_on_gpt2\").to(device=device)\n",
    "\n",
    "all_metrics = []\n",
    "\n",
    "model.train()\n",
    "\n",
    "lr = 2e-5\n",
    "loss = torch.nn.CrossEntropyLoss()\n",
    "optimizer = torch.optim.AdamW(model.parameters(), lr=lr)\n",
    "\n",
    "# 학습 및 검증 함수 정의\n",
    "def train(train_loader, model, optimizer):\n",
    "    model.train()\n",
    "    total_loss = 0.0\n",
    "    for batch in tqdm(train_loader):\n",
    "        inputs = batch['input_ids'].to(model.device)\n",
    "        labels = batch['output_ids'].to(model.device)\n",
    "        optimizer.zero_grad()\n",
    "        outputs = model(inputs, labels=labels)\n",
    "        loss = outputs.loss\n",
    "        loss.backward()\n",
    "        optimizer.step()\n",
    "        total_loss += loss.item()\n",
    "    return total_loss / len(train_loader)\n",
    "\n",
    "def validate(validate_loader, model):\n",
    "    model.eval()\n",
    "    total_loss = 0.0\n",
    "    predictions = []\n",
    "    targets = []\n",
    "    with torch.no_grad():\n",
    "        for batch in tqdm(validate_loader):\n",
    "            inputs = batch['input_ids'].to(model.device)\n",
    "            labels = batch['output_ids'].to(model.device)\n",
    "            outputs = model(inputs, labels=labels)\n",
    "            loss = outputs.loss\n",
    "            total_loss += loss.item()\n",
    "            predictions.extend(outputs.logits.argmax(dim=-1).tolist())\n",
    "            targets.extend(labels.tolist())\n",
    "    roc_auc = roc_auc_score(targets, predictions)\n",
    "    f1 = f1_score(targets, predictions, average='macro')\n",
    "    return total_loss / len(validate_loader), roc_auc, f1\n",
    "\n",
    "# 학습 및 검증\n",
    "epochs = 10\n",
    "for epoch in tqdm(range(epochs)):\n",
    "    train_loss = train(train_loader, model, optimizer)\n",
    "    validate_loss, roc_auc, f1 = validate(validate_loader, model)\n",
    "\n",
    "    print(f\"Epoch {epoch + 1}/{epochs}, Train Loss: {train_loss}, Validate Loss: {validate_loss}, ROC-AUC: {roc_auc}, F1 Score: {f1}\")\n",
    "    all_metrics.append({\n",
    "        'epoch':epoch + 1,\n",
    "        'train_loss': train_loss,\n",
    "        'val_loss': validate_loss,\n",
    "        'roc_auc': roc_auc,\n",
    "        'f1': f1\n",
    "    })\n",
    "    with open(\"{LOCATION}/all_metrics.pkl\", \"wb\") as f:\n",
    "        pickle.dump(all_metrics, f)"
   ]
  },
  {
   "cell_type": "code",
   "execution_count": null,
   "metadata": {},
   "outputs": [],
   "source": [
    "import pandas as pd\n",
    "import matplotlib.pyplot as plt\n",
    "import pickle\n",
    "\n",
    "with open(f\"{LOCATION}/all_metrics.pkl\", \"rb\") as f:\n",
    "    all_metrics = pickle.load(f)\n",
    "\n",
    "df_metrics = pd.DataFrame(all_metrics)\n",
    "\n",
    "# 그래프 시각화\n",
    "plt.plot(df_metrics[\"train_loss\"], label=\"Train Loss\")\n",
    "plt.plot(df_metrics[\"validate_loss\"], label=\"Validate Loss\")\n",
    "plt.legend()\n",
    "plt.show()\n",
    "\n",
    "plt.plot(df_metrics[\"f1\"], label=\"F1 Score\")\n",
    "plt.plot(df_metrics[\"roc_auc\"], label=\"ROC AUC\")\n",
    "plt.legend()\n",
    "plt.show()"
   ]
  }
 ],
 "metadata": {
  "kernelspec": {
   "display_name": "sentence_correction_gpt",
   "language": "python",
   "name": "python3"
  },
  "language_info": {
   "codemirror_mode": {
    "name": "ipython",
    "version": 3
   },
   "file_extension": ".py",
   "mimetype": "text/x-python",
   "name": "python",
   "nbconvert_exporter": "python",
   "pygments_lexer": "ipython3",
   "version": "3.12.2"
  }
 },
 "nbformat": 4,
 "nbformat_minor": 2
}
