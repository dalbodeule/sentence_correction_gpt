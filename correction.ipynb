{
  "cells": [
    {
      "cell_type": "markdown",
      "metadata": {
        "id": "an0ot3YnqbsN"
      },
      "source": [
        "# Sentence correction gpt on Korean\n",
        "\n",
        "한국어 문법교정 BART 모델 구축하기\n"
      ]
    },
    {
      "cell_type": "markdown",
      "metadata": {
        "id": "85RIDTWeZTO1"
      },
      "source": [
        "Google Colab 환경에서 실행시 이 라인을 먼저 실행한다."
      ]
    },
    {
      "cell_type": "code",
      "execution_count": null,
      "metadata": {
        "colab": {
          "base_uri": "https://localhost:8080/"
        },
        "id": "0FKsmQ51qhwD",
        "outputId": "125eadcf-8d2d-4548-83ee-1ea939d9399d"
      },
      "outputs": [],
      "source": [
        "# only google cloab\n",
        "import os, sys\n",
        "from google.colab import drive\n",
        "drive.mount('/content/drive')\n",
        "\n",
        "LOCATION = '/content/drive/MyDrive/spell_correction'"
      ]
    },
    {
      "cell_type": "markdown",
      "metadata": {
        "id": "vLJr1uN3ZUQH"
      },
      "source": [
        "Local 환경에서 실행시 이 라인을 먼저 실행한다."
      ]
    },
    {
      "cell_type": "code",
      "execution_count": 1,
      "metadata": {
        "id": "cZDBMnrSZUAw"
      },
      "outputs": [],
      "source": [
        "LOCATION = '.'"
      ]
    },
    {
      "cell_type": "code",
      "execution_count": null,
      "metadata": {
        "colab": {
          "base_uri": "https://localhost:8080/"
        },
        "id": "rTWyydJXqbsQ",
        "outputId": "f6172d09-aa44-47e7-85be-aef1aa673230"
      },
      "outputs": [],
      "source": [
        "%pip install pandas numpy scipy scikit-learn torch accelerate transformers ipywidgets tqdm matplotlib datasets evaluate --upgrade\n",
        "\n",
        "# Transformers 를 사용하기 위한 라이브러리들 설치"
      ]
    },
    {
      "cell_type": "markdown",
      "metadata": {
        "id": "xw0bwsznqbsQ"
      },
      "source": [
        "### AI-Hub data 정제\n",
        "\n",
        "예시 데이터는 다음과 같다.\n",
        "\n",
        "이 프로젝트를 수행하는 데이터인 AI-Hub 데이터는 용량이 112GB, 국외반출 불가로 데이터 관리에 주의를 요한다.\n",
        "\n",
        "이 데이터를 Pandas.DataFrame['index', text', 'corrected'] 로 정제하는 과정을 거친다.\n",
        "\n",
        "```json\n",
        "{  \"id\": \"100008-1-1-1\",\n",
        "  \"fileName\": \"TX_CA_1_100008-1-1-1\",\n",
        "  \"dataSet\": \"한국어 철자 및 맞춤법 교정용 병렬 데이터\",\n",
        "  \"domain\": \"CA\",\n",
        "  \"ko\": \"지금까지 다녀 본 여행지 중 좋았던 곳 추천해줘.\",\n",
        "  \"corrected\": \"지금까지 다녀 본 여행지 중 좋았던 곳 추천해 줘.\",\n",
        "  \"error\": [\n",
        "    {\n",
        "      \"errorType\": \"spac\",\n",
        "      \"startPoint\": 22,\n",
        "      \"endPoint\": 27\n",
        "    }\n",
        "  ]\n",
        "}\n",
        "```"
      ]
    },
    {
      "cell_type": "markdown",
      "metadata": {
        "id": "4PQwxVbCZZl6"
      },
      "source": [
        "# 아래의 셀은 반드시 Local 환경에서 실행한다."
      ]
    },
    {
      "cell_type": "code",
      "execution_count": null,
      "metadata": {
        "id": "Y6ZNikJ-qbsR"
      },
      "outputs": [],
      "source": [
        "from typing import List, Dict\n",
        "\n",
        "from json_processing import get_json_files, read_json_file\n",
        "\n",
        "import pandas as pd\n",
        "\n",
        "train = get_json_files(f'{LOCATION}/data/train')\n",
        "validate = get_json_files(f'{LOCATION}/data/validate')\n",
        "\n",
        "train_data = pd.DataFrame()\n",
        "validate_data = pd.DataFrame()"
      ]
    },
    {
      "cell_type": "code",
      "execution_count": null,
      "metadata": {
        "id": "QymmHAL3qbsR"
      },
      "outputs": [],
      "source": [
        "from json_processing import get_json_files, read_json_file\n",
        "from tqdm.notebook import tqdm\n",
        "\n",
        "import multiprocessing as mp\n",
        "\n",
        "# https://zerohertz.github.io/multiprocessing/\n",
        "with mp.Pool() as pool:\n",
        "    train_raw = list(tqdm(pool.imap(read_json_file, train), total=len(train)))\n",
        "\n",
        "train_data = pd.concat(train_raw, ignore_index=True)\n",
        "\n",
        "for file in tqdm(validate):\n",
        "    validate_data = pd.concat([validate_data, read_json_file(f'{LOCATION}/{file}')], ignore_index=True)\n",
        "\n",
        "for data in [train_data, validate_data]:\n",
        "    data.dropna(subset=['text'], inplace=True)\n",
        "    data.dropna(subset=['corrected'], inplace=True)\n",
        "\n",
        "train_data.to_csv(f'{LOCATION}/train.csv')\n",
        "validate_data.to_csv(f'{LOCATION}/validate.csv')"
      ]
    },
    {
      "cell_type": "markdown",
      "metadata": {},
      "source": [
        "### 문장 분포 확인\n",
        "\n",
        "Transformer API를 이용해 학습시키기 위해, 텍스트의 Max Length를 알아보도록 한다."
      ]
    },
    {
      "cell_type": "code",
      "execution_count": null,
      "metadata": {},
      "outputs": [],
      "source": [
        "import pandas as pd\n",
        "import matplotlib.pyplot as plt\n",
        "\n",
        "sentents = pd.concat([pd.read_csv(f'{LOCATION}/train.csv'), pd.read_csv(f'{LOCATION}/validate.csv')])\n",
        "\n",
        "# 각 문장의 길이 계산\n",
        "text_lengths = sentents['text'].apply(lambda x: len(str(x)))\n",
        "corrected_lengths = sentents['corrected'].apply(lambda x: len(str(x)))\n",
        "\n",
        "# 그래프 생성\n",
        "plt.figure(figsize=(10, 6))\n",
        "plt.hist([text_lengths, corrected_lengths], bins=100, color=['blue', 'orange'], label=['text', 'corrected'])\n",
        "plt.xlabel('Length of Sentences')\n",
        "plt.ylabel('Frequency')\n",
        "plt.title('Distribution of Sentence Lengths')\n",
        "plt.legend()\n",
        "plt.grid(True)\n",
        "\n",
        "plt.xlim(0, 220)\n",
        "\n",
        "plt.text(text_lengths.max(), 100, f\"Max: {text_lengths.max()}\", ha='right', va='center', color='blue', fontsize=10)\n",
        "plt.text(corrected_lengths.max(), 100, f\"Max: {corrected_lengths.max()}\", ha='right', va='center', color='orange', fontsize=10)\n",
        "\n",
        "plt.show()\n",
        "\n",
        "# 'text' 열의 각 문장의 길이 계산\n",
        "sentents['text_length'] = sentents['text'].apply(lambda x: len(str(x)))\n",
        "sentents['corrected_length'] = sentents['corrected'].apply(lambda x: len(str(x)))\n",
        "\n",
        "# 가장 긴 문장 10개 추출\n",
        "top_longest_text = sentents.nlargest(10, 'text_length')\n",
        "top_longest_corrected = sentents.nlargest(20, 'corrected_length')\n",
        "\n",
        "for idx, value in top_longest_text.iterrows():\n",
        "    print(value['id'], value['text'])\n",
        "print(\"=====================\")\n",
        "for idx, value in top_longest_corrected.iterrows():\n",
        "    print(value['id'], value['corrected'])"
      ]
    },
    {
      "cell_type": "code",
      "execution_count": null,
      "metadata": {},
      "outputs": [],
      "source": [
        "top_longest_corrected.to_csv(f'{LOCATION}/errors.csv')"
      ]
    },
    {
      "cell_type": "markdown",
      "metadata": {},
      "source": [
        "### 오류문장 정정\n",
        "\n",
        "```\n",
        "Search8151751스포츠/생활 건강이런 음식들은 머리카락에 영양을 공급하고 윤기가 나게 해줄 수 있다.대기8151752스포츠/생활 건강이런 음식들은 피부 또한 부드럽게 만들어 준다.대기8151753스포츠/생활 건강탈모가 지속될 경우 호르몬 불균형 문제일 수 있 수 있다.대기8151754스포츠/생활 건강정관수술은 정자의 이동통로인 정관을 절단하고 결찰한다.대기8151755스포츠/생활 건강정관수술은 사정액 내에 정자가 함께 배출되는 것을 막는 수술이다.대기8151756스포츠/생활 건강자녀를 가진 부부가 자녀의 계획이 없는 경우 정관수술을 시행할 수 있다.대기8151757스포츠/생활 건강정관수술 후 바로 성관계할 수 있다.대기8151758스포츠/생활 건강문제는 일정 기간 아직 남아 있는 정자들로 임신이 가능할 수 있다.대기8151759스포츠/생활 건강정관수술 후 수회 이상 기타 피임을 통해 정자들을 모두 배출시켜야 한다.대기8151760스포츠/생활 건강정관수술 이후 정액검사를 통해 무정자증을 확인하는 것도 좋은 방법이다.대기101-10 of 35원본 문장 오류 태깅이런음식들은피부또한부드럽게만들어준다.오류 태깅ㅤ만들어준다.띄어쓰기 오류원본 텍스트이런 음식들은 피부 또한 부드럽게 만들어 준다.\n",
        "```\n",
        "다음과 같은 오류문장이 포함되어 있다. 해당부분을 수동으로 정정해주어야 한다. 해당 부분을 정정하기 위해 AI-Hub에 오류정정을 제기한 상태이다."
      ]
    },
    {
      "cell_type": "markdown",
      "metadata": {},
      "source": [
        "![](dist-length.png)"
      ]
    },
    {
      "cell_type": "markdown",
      "metadata": {
        "id": "sm-yEWVmqbsR"
      },
      "source": [
        "### Transformer 학습 준비\n",
        "\n",
        "학습 준비된 데이터는 토크나이저를 불러와 DataLoader에 준비하여 학습 준비를 한다.\n",
        "\n",
        "파인튜닝 대상 모델은 다음과 같다.\n",
        "[SKT-AI/KoBART](https://github.com/SKT-AI/KoBART)"
      ]
    },
    {
      "cell_type": "code",
      "execution_count": null,
      "metadata": {
        "id": "ifJMSkoUqbsR"
      },
      "outputs": [],
      "source": [
        "from torch.utils.data import Dataset\n",
        "from transformers import PreTrainedTokenizerFast\n",
        "from typing import Tuple\n",
        "\n",
        "import pandas as pd\n",
        "import numpy as np\n",
        "import torch\n",
        "\n",
        "tokenizer = PreTrainedTokenizerFast.from_pretrained('gogamza/kobart-base-v2', bos_token=\"<s>\", eos_token=\"</s>\")\n",
        "max_length = 128\n",
        "\n",
        "print(f\"BOS_TOKEN: {tokenizer.bos_token}, EOS_TOKEN: {tokenizer.eos_token}\")\n",
        "\n",
        "class TextDataset(Dataset):\n",
        "    def __init__(self, file_path: str, tokenizer, max_length, chunksize=3000):\n",
        "        self.file_path = file_path\n",
        "        self.tokenizer = tokenizer\n",
        "        self.max_length = max_length\n",
        "        self.chunksize = chunksize\n",
        "        self.bos_token = self.tokenizer.bos_token\n",
        "        self.eos_token = self.tokenizer.eos_token\n",
        "        \n",
        "        self.reader = pd.read_csv(file_path)\n",
        "\n",
        "    def __len__(self):\n",
        "        return len(self.reader)\n",
        "\n",
        "    def __getitem__(self, idx):\n",
        "        row = self.reader.iloc[idx]\n",
        "        input_text = str(row['text'])\n",
        "        corrected_text = str(row['corrected'])\n",
        "        \n",
        "        input_encodings = self.tokenizer.encode_plus(\n",
        "            self.bos_token + input_text + self.eos_token,\n",
        "            max_length=self.max_length,\n",
        "            truncation=True,\n",
        "            padding='max_length',\n",
        "            return_tensors='pt'\n",
        "        )\n",
        "        output_encodings = self.tokenizer.encode_plus(\n",
        "            self.bos_token + corrected_text + self.eos_token,\n",
        "            max_length=self.max_length,\n",
        "            truncation=True,\n",
        "            padding='max_length',\n",
        "            return_tensors='pt'\n",
        "        )\n",
        "        \n",
        "        input_ids = input_encodings['input_ids'].squeeze()\n",
        "        attention_mask = input_encodings['attention_mask'].squeeze()\n",
        "        output_ids = output_encodings['input_ids'].squeeze()\n",
        "        \n",
        "        return {\n",
        "            'input_ids': input_ids,\n",
        "            'attention_mask': attention_mask,\n",
        "            'labels': output_ids\n",
        "        }\n",
        "\n",
        "train_dataset = TextDataset(f'{LOCATION}/train.csv', tokenizer, max_length)\n",
        "validate_dataset = TextDataset(f'{LOCATION}/validate.csv', tokenizer, max_length)"
      ]
    },
    {
      "cell_type": "code",
      "execution_count": null,
      "metadata": {
        "id": "DBSZpMoLqbsS"
      },
      "outputs": [],
      "source": [
        "from transformers import BartForConditionalGeneration, Trainer, Seq2SeqTrainingArguments, DataCollatorForSeq2Seq, TrainerCallback\n",
        "from evaluate import load\n",
        "\n",
        "import torch\n",
        "import pickle\n",
        "import os\n",
        "import gc\n",
        "\n",
        "device = torch.device('cpu')\n",
        "\n",
        "if torch.backends.mps.is_available():\n",
        "    device = torch.device('mps')\n",
        "elif torch.cuda.is_available():\n",
        "    device = torch.device('cuda')\n",
        "\n",
        "model = BartForConditionalGeneration.from_pretrained('gogamza/kobart-base-v2')\n",
        "lr=2e-5\n",
        "SAVE_PATH = f\"{LOCATION}/all_metrics.csv\"\n",
        "metric_bleu = load(\"bleu\")\n",
        "metric_rouge = load(\"rouge\")\n",
        "metric_meteor = load(\"meteor\")\n",
        "\n",
        "if os.path.exists(SAVE_PATH):\n",
        "    all_metrics = pd.read_csv(SAVE_PATH)\n",
        "else:\n",
        "    all_metrics = pd.DataFrame(columns=[\"train_loss\", \"val_loss\", \"bleu\", \"rouge\", \"meteor\"])\n",
        "\n",
        "def get_latest_checkpoint(path):\n",
        "    checkpoints = [f for f in os.listdir(path) if f.startswith('checkpoint-')]\n",
        "    if checkpoints:\n",
        "        return os.path.join(path, max(checkpoints))\n",
        "    else:\n",
        "        return None\n",
        "\n",
        "def compute_metrics(eval_pred: Tuple[torch.Tensor, torch.Tensor]):\n",
        "    predictions, labels = eval_pred\n",
        "    decoded_preds = tokenizer.batch_decode(predictions, skip_special_tokens=True)\n",
        "\n",
        "    labels = np.array(labels)\n",
        "    neg_labels = labels < 0\n",
        "    if np.any(neg_labels):\n",
        "        labels[neg_labels] = 0\n",
        "\n",
        "    decoded_labels = tokenizer.batch_decode(labels, skip_special_tokens=True)\n",
        "\n",
        "    bleu_score = metric_bleu.compute(predictions=decoded_preds, references=[[label] for label in decoded_labels])\n",
        "    rouge_score = metric_rouge.compute(predictions=decoded_preds, references=decoded_labels)\n",
        "    meteor_score = metric_meteor.compute(predictions=decoded_preds, references=decoded_labels)\n",
        "    score = {\"bleu\": bleu_score[\"bleu\"], \"rouge\": rouge_score['rougeL'], \"meteor\": meteor_score[\"meteor\"], \"train_loss\": eval_pred.metrics[\"train_loss\"], \"val_loss\": eval_pred.metrics[\"eval_loss\"],}\n",
        "\n",
        "    all_metrics.loc[len(all_metrics)] = score\n",
        "    all_metrics.to_csv(SAVE_PATH)\n",
        "\n",
        "    return score\n",
        "\n",
        "def preprocess_logits_for_metrics(logits, labels):\n",
        "        if isinstance(logits, tuple):\n",
        "            # Depending on the model and config, logits may contain extra tensors,\n",
        "            # like past_key_values, but logits always come first\n",
        "            logits = logits[0]\n",
        "        return logits.argmax(dim=-1)\n",
        "\n",
        "class EmptyCacheCallback(TrainerCallback):\n",
        "    \"\"\"훈련의 각 로그 스텝마다 CUDA 캐시를 비우는 콜백\"\"\"\n",
        "\n",
        "    def on_log(self, args, state, control, **kwargs):\n",
        "        \"\"\"로그 이벤트가 발생할 때 CUDA 캐시를 비웁니다.\"\"\"\n",
        "        gc.collect()\n",
        "        torch.mps.empty_cache()\n",
        "\n",
        "data_collactor = DataCollatorForSeq2Seq(tokenizer=tokenizer, model=model)\n",
        "\n",
        "training_args = Seq2SeqTrainingArguments(\n",
        "    eval_accumulation_steps=8,\n",
        "    output_dir=f\"{LOCATION}/model-bart\", # 모델 저장 경로\n",
        "    overwrite_output_dir=True,  # 기존 모델을 덮어쓰기\n",
        "    learning_rate=lr,  # 학습률 설정\n",
        "    num_train_epochs=20,  # 학습 에포크 설정\n",
        "    evaluation_strategy=\"epoch\",  # 평가 스트레티지 설정\n",
        "    per_device_train_batch_size=16,  # 배치 크기 설정\n",
        "    per_device_eval_batch_size=16,\n",
        "    save_steps=1000,  # 모델 저장 스텝 설정\n",
        "    save_total_limit=10,  # 최대 모델 저장 개수 설정\n",
        "    warmup_steps=500,  # 워밍업 스텝 설정\n",
        "    weight_decay=0.01,\n",
        "    predict_with_generate=True,\n",
        ")\n",
        "\n",
        "trainer = Trainer(\n",
        "    model=model,\n",
        "    args=training_args,\n",
        "    train_dataset=train_dataset,\n",
        "    eval_dataset=validate_dataset,\n",
        "    data_collator=data_collactor,\n",
        "    tokenizer=tokenizer,\n",
        "    compute_metrics=compute_metrics,\n",
        "    preprocess_logits_for_metrics=preprocess_logits_for_metrics,\n",
        "    callbacks=[EmptyCacheCallback()],\n",
        ")\n",
        "\n",
        "trainer.train(resume_from_checkpoint = True if get_latest_checkpoint(f'{LOCATION}/model-bart') else False)\n",
        "trainer.evaluate()\n",
        "\n",
        "trainer.save_model(f\"{LOCATION}/bart\")\n"
      ]
    },
    {
      "cell_type": "code",
      "execution_count": 2,
      "metadata": {
        "id": "6dwe61PHqbsS"
      },
      "outputs": [
        {
          "data": {
            "image/png": "[encoded data removed]",
            "text/plain": [
              "<Figure size 640x480 with 1 Axes>"
            ]
          },
          "metadata": {},
          "output_type": "display_data"
        }
      ],
      "source": [
        "import pandas as pd\n",
        "import matplotlib.pyplot as plt\n",
        "import numpy as np\n",
        "\n",
        "SAVE_PATH = f\"{LOCATION}/all_metrics.csv\"\n",
        "df_metrics = pd.read_csv(SAVE_PATH)\n",
        "\n",
        "x_ticks = np.arange(1, len(df_metrics) + 1)\n",
        "\n",
        "# 그래프 시각화\n",
        "plt.plot(x_ticks, df_metrics[\"bleu\"], label=\"BLEU score\")\n",
        "plt.plot(x_ticks, df_metrics[\"rouge\"], label=\"ROUGE score\")\n",
        "plt.plot(x_ticks, df_metrics[\"meteor\"], label=\"METEOR score\")\n",
        "plt.legend()\n",
        "plt.show()"
      ]
    },
    {
      "cell_type": "markdown",
      "metadata": {},
      "source": [
        "![](learning.png)"
      ]
    }
  ],
  "metadata": {
    "accelerator": "GPU",
    "colab": {
      "gpuType": "V100",
      "provenance": []
    },
    "kernelspec": {
      "display_name": "Python 3",
      "name": "python3"
    },
    "language_info": {
      "codemirror_mode": {
        "name": "ipython",
        "version": 3
      },
      "file_extension": ".py",
      "mimetype": "text/x-python",
      "name": "python",
      "nbconvert_exporter": "python",
      "pygments_lexer": "ipython3",
      "version": "3.12.3"
    }
  },
  "nbformat": 4,
  "nbformat_minor": 0
}
